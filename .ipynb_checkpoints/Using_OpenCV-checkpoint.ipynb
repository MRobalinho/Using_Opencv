{
 "cells": [
  {
   "cell_type": "markdown",
   "metadata": {},
   "source": [
    "# Test to Use OpenCV\n",
    "\n",
    "#### Documentation:\n",
    "https://github.com/rajeshpachaikani/Opencv-Video-Recorder\n",
    "https://www.youtube.com/watch?v=mFLkwIYGpME\n",
    "\n",
    "MRobalinho - 04-11-2018"
   ]
  },
  {
   "cell_type": "code",
   "execution_count": 1,
   "metadata": {
    "collapsed": true
   },
   "outputs": [],
   "source": [
    "# Import packages\n",
    "import cv2\n",
    "import numpy as np"
   ]
  },
  {
   "cell_type": "code",
   "execution_count": 2,
   "metadata": {
    "collapsed": true
   },
   "outputs": [],
   "source": [
    "cam    = cv2.VideoCapture(0)\n",
    "fourcc = cv2.VideoWriter_fourcc(*'MJPG')  # AVI\n",
    "rec    = cv2.VideoWriter('TutorialOpencv.avi',fourcc,15,(640,480))"
   ]
  },
  {
   "cell_type": "code",
   "execution_count": 3,
   "metadata": {
    "collapsed": true
   },
   "outputs": [],
   "source": [
    "# Show Image"
   ]
  },
  {
   "cell_type": "code",
   "execution_count": 4,
   "metadata": {},
   "outputs": [
    {
     "name": "stdout",
     "output_type": "stream",
     "text": [
      "Key q Pressed - Exit\n"
     ]
    }
   ],
   "source": [
    "while True:\n",
    "    b, img = cam.read()\n",
    "    cv2.imshow(\"View port \", img)\n",
    "        \n",
    "    rec.write(img)\n",
    "    key = cv2.waitKey(1) & 0XFF\n",
    "    if key == ord('q'):\n",
    "        print('Key q Pressed - Exit')\n",
    "        rec.release()\n",
    "        break\n",
    "cam.release()\n",
    "cv2.destroyAllWindows()"
   ]
  },
  {
   "cell_type": "code",
   "execution_count": null,
   "metadata": {
    "collapsed": true
   },
   "outputs": [],
   "source": []
  }
 ],
 "metadata": {
  "kernelspec": {
   "display_name": "Python 3",
   "language": "python",
   "name": "python3"
  },
  "language_info": {
   "codemirror_mode": {
    "name": "ipython",
    "version": 3
   },
   "file_extension": ".py",
   "mimetype": "text/x-python",
   "name": "python",
   "nbconvert_exporter": "python",
   "pygments_lexer": "ipython3",
   "version": "3.6.7"
  }
 },
 "nbformat": 4,
 "nbformat_minor": 2
}
